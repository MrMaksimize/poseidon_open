{
 "cells": [
  {
   "cell_type": "code",
   "execution_count": 8,
   "metadata": {
    "collapsed": true
   },
   "outputs": [],
   "source": [
    "import requests\n",
    "import json\n",
    "\n",
    "template = 'tem_Cqbh3H4rccHh3cQYbGvtM6hc'\n",
    "api_key = 'live_caf949391046f483a92beac2f68959ff8c4f3f44'\n",
    "\n",
    "payload = {\n",
    "      \"template\": \"tem_Cqbh3H4rccHh3cQYbGvtM6hc\",\n",
    "      \"recipient\": {\n",
    "        \"address\": \"maksimp@sandiego.gov\",\n",
    "        \"name\": \"Jo\"\n",
    "      },\n",
    "      \"template_data\": {\n",
    "         \"ds_name\": \"Imcat Street Data\",\n",
    "         \"ds_url\": \"http://google.com\",\n",
    "         \"subject\": \"Updated Data!\"\n",
    "      }\n",
    "    }\n",
    "\n",
    "payload = json.dumps(payload)"
   ]
  },
  {
   "cell_type": "code",
   "execution_count": 9,
   "metadata": {
    "collapsed": false
   },
   "outputs": [
    {
     "data": {
      "text/plain": [
       "'{\"email\": {\"name\": \"Poseidon Notification\", \"locale\": \"en-US\", \"version_name\": \"New Dataset Available\"}, \"receipt_id\": \"log_98cf5ffc28b21e75dac2a95bca1119c2-3\", \"success\": true, \"status\": \"OK\"}'"
      ]
     },
     "execution_count": 9,
     "metadata": {},
     "output_type": "execute_result"
    }
   ],
   "source": [
    "r = requests.post('https://api.sendwithus.com/api/v1/send', data=payload, auth=(api_key, ''))\n",
    "r.content"
   ]
  },
  {
   "cell_type": "code",
   "execution_count": null,
   "metadata": {
    "collapsed": true
   },
   "outputs": [],
   "source": []
  }
 ],
 "metadata": {
  "kernelspec": {
   "display_name": "Python 2",
   "language": "python",
   "name": "python2"
  },
  "language_info": {
   "codemirror_mode": {
    "name": "ipython",
    "version": 2
   },
   "file_extension": ".py",
   "mimetype": "text/x-python",
   "name": "python",
   "nbconvert_exporter": "python",
   "pygments_lexer": "ipython2",
   "version": "2.7.9"
  }
 },
 "nbformat": 4,
 "nbformat_minor": 2
}
